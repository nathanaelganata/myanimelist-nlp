{
 "cells": [
  {
   "metadata": {},
   "cell_type": "markdown",
   "source": "### Attempt 1: Change the model",
   "id": "f0a5dfdb68cb1369"
  },
  {
   "cell_type": "code",
   "id": "initial_id",
   "metadata": {
    "collapsed": true,
    "ExecuteTime": {
     "end_time": "2025-06-23T07:32:07.391317Z",
     "start_time": "2025-06-23T07:32:03.435216Z"
    }
   },
   "source": [
    "import pandas as pd\n",
    "import seaborn as sns\n",
    "import matplotlib.pyplot as plt\n",
    "from sklearn.metrics import classification_report\n",
    "import numpy as np\n",
    "from sklearn.metrics import confusion_matrix\n",
    "from transformers import AutoTokenizer, AutoModelForSequenceClassification, pipeline"
   ],
   "outputs": [
    {
     "name": "stderr",
     "output_type": "stream",
     "text": [
      "/home/miellilas/Documents/pba/myanimelist/venv/lib/python3.12/site-packages/tqdm/auto.py:21: TqdmWarning: IProgress not found. Please update jupyter and ipywidgets. See https://ipywidgets.readthedocs.io/en/stable/user_install.html\n",
      "  from .autonotebook import tqdm as notebook_tqdm\n"
     ]
    }
   ],
   "execution_count": 1
  },
  {
   "metadata": {
    "ExecuteTime": {
     "end_time": "2025-06-23T07:32:07.944353Z",
     "start_time": "2025-06-23T07:32:07.408260Z"
    }
   },
   "cell_type": "code",
   "source": [
    "df = pd.read_csv(r\"../data/processed/top_150_fantasy_reviews_cleaned_balanced.csv\")\n",
    "print(df.head())\n",
    "print(df[\"recommendation\"].value_counts())"
   ],
   "id": "f6bc01a80d974809",
   "outputs": [
    {
     "name": "stdout",
     "output_type": "stream",
     "text": [
      "   review_id        anime_title  \\\n",
      "0     503754  Sousou no Frieren   \n",
      "1     519189  Sousou no Frieren   \n",
      "2     506314  Sousou no Frieren   \n",
      "3     506301  Sousou no Frieren   \n",
      "4     507559  Sousou no Frieren   \n",
      "\n",
      "                                      review_url                   date  \\\n",
      "0  https://myanimelist.net/reviews.php?id=503754   Oct 13, 2023 8:38 AM   \n",
      "1  https://myanimelist.net/reviews.php?id=519189  Mar 22, 2024 12:40 PM   \n",
      "2  https://myanimelist.net/reviews.php?id=506314   Nov 10, 2023 3:29 PM   \n",
      "3  https://myanimelist.net/reviews.php?id=506301   Nov 10, 2023 9:52 AM   \n",
      "4  https://myanimelist.net/reviews.php?id=507559   Nov 25, 2023 3:17 PM   \n",
      "\n",
      "      username  user_review_count  is_preliminary episodes_watched  \\\n",
      "0       Czekaj                  5            True             5/28   \n",
      "1      chekkit                 25           False              NaN   \n",
      "2    Hallideus                  3            True            10/28   \n",
      "3     Gamer651                  9            True            10/28   \n",
      "4  alexspace38                  2            True            12/28   \n",
      "\n",
      "  recommendation  rating  ... total_reactions  nice_count  love_it_count  \\\n",
      "0    Recommended      10  ...            1352         282            837   \n",
      "1    Recommended      10  ...            1223         252            794   \n",
      "2    Recommended      10  ...             222          71            107   \n",
      "3    Recommended      10  ...             183          43             88   \n",
      "4    Recommended      10  ...             157          30             79   \n",
      "\n",
      "   funny_count  confusing_count  informative_count  well_written_count  \\\n",
      "0           44               58                  5                 124   \n",
      "1           43               52                  8                  70   \n",
      "2           23               13                  0                   8   \n",
      "3           29               15                  0                   7   \n",
      "4           34               11                  0                   3   \n",
      "\n",
      "   creative_count                                   review_sentiment  \\\n",
      "0               2  with lives so short why do we even bother? to ...   \n",
      "1               4  i feel so catered to it feels like an eternity...   \n",
      "2               0  i feel some of the other reviews say it all to...   \n",
      "3               1  it is been 3 years since i last wrote up a rev...   \n",
      "4               0  first time i felt compelled to write a review ...   \n",
      "\n",
      "                                       review_nerpos  \n",
      "0  With lives so short, why do we even bother? To...  \n",
      "1  I feel so catered to. It feels like an eternit...  \n",
      "2  I feel some of the other reviews say it all to...  \n",
      "3  It is been 3 years since I last wrote up a rev...  \n",
      "4  First time I felt compelled to write a review ...  \n",
      "\n",
      "[5 rows x 21 columns]\n",
      "recommendation\n",
      "Recommended        2319\n",
      "Mixed Feelings     1405\n",
      "Not Recommended    1136\n",
      "Name: count, dtype: int64\n"
     ]
    }
   ],
   "execution_count": 2
  },
  {
   "metadata": {
    "ExecuteTime": {
     "end_time": "2025-06-23T07:32:51.217042Z",
     "start_time": "2025-06-23T07:32:51.208692Z"
    }
   },
   "cell_type": "code",
   "source": "df[['rating', 'recommendation']].sample(20)",
   "id": "53a847ebafc890fb",
   "outputs": [
    {
     "data": {
      "text/plain": [
       "      rating   recommendation\n",
       "1805       9      Recommended\n",
       "2965       5   Mixed Feelings\n",
       "1698      10      Recommended\n",
       "2993       6   Mixed Feelings\n",
       "4425      10      Recommended\n",
       "3621       6   Mixed Feelings\n",
       "2067       9      Recommended\n",
       "1402       9      Recommended\n",
       "771        7  Not Recommended\n",
       "4760       8      Recommended\n",
       "1094      10      Recommended\n",
       "3683       6   Mixed Feelings\n",
       "2043       4  Not Recommended\n",
       "2761       5   Mixed Feelings\n",
       "1512      10      Recommended\n",
       "587        5   Mixed Feelings\n",
       "203        4  Not Recommended\n",
       "4647       6   Mixed Feelings\n",
       "1203      10      Recommended\n",
       "2196       8   Mixed Feelings"
      ],
      "text/html": [
       "<div>\n",
       "<style scoped>\n",
       "    .dataframe tbody tr th:only-of-type {\n",
       "        vertical-align: middle;\n",
       "    }\n",
       "\n",
       "    .dataframe tbody tr th {\n",
       "        vertical-align: top;\n",
       "    }\n",
       "\n",
       "    .dataframe thead th {\n",
       "        text-align: right;\n",
       "    }\n",
       "</style>\n",
       "<table border=\"1\" class=\"dataframe\">\n",
       "  <thead>\n",
       "    <tr style=\"text-align: right;\">\n",
       "      <th></th>\n",
       "      <th>rating</th>\n",
       "      <th>recommendation</th>\n",
       "    </tr>\n",
       "  </thead>\n",
       "  <tbody>\n",
       "    <tr>\n",
       "      <th>1805</th>\n",
       "      <td>9</td>\n",
       "      <td>Recommended</td>\n",
       "    </tr>\n",
       "    <tr>\n",
       "      <th>2965</th>\n",
       "      <td>5</td>\n",
       "      <td>Mixed Feelings</td>\n",
       "    </tr>\n",
       "    <tr>\n",
       "      <th>1698</th>\n",
       "      <td>10</td>\n",
       "      <td>Recommended</td>\n",
       "    </tr>\n",
       "    <tr>\n",
       "      <th>2993</th>\n",
       "      <td>6</td>\n",
       "      <td>Mixed Feelings</td>\n",
       "    </tr>\n",
       "    <tr>\n",
       "      <th>4425</th>\n",
       "      <td>10</td>\n",
       "      <td>Recommended</td>\n",
       "    </tr>\n",
       "    <tr>\n",
       "      <th>3621</th>\n",
       "      <td>6</td>\n",
       "      <td>Mixed Feelings</td>\n",
       "    </tr>\n",
       "    <tr>\n",
       "      <th>2067</th>\n",
       "      <td>9</td>\n",
       "      <td>Recommended</td>\n",
       "    </tr>\n",
       "    <tr>\n",
       "      <th>1402</th>\n",
       "      <td>9</td>\n",
       "      <td>Recommended</td>\n",
       "    </tr>\n",
       "    <tr>\n",
       "      <th>771</th>\n",
       "      <td>7</td>\n",
       "      <td>Not Recommended</td>\n",
       "    </tr>\n",
       "    <tr>\n",
       "      <th>4760</th>\n",
       "      <td>8</td>\n",
       "      <td>Recommended</td>\n",
       "    </tr>\n",
       "    <tr>\n",
       "      <th>1094</th>\n",
       "      <td>10</td>\n",
       "      <td>Recommended</td>\n",
       "    </tr>\n",
       "    <tr>\n",
       "      <th>3683</th>\n",
       "      <td>6</td>\n",
       "      <td>Mixed Feelings</td>\n",
       "    </tr>\n",
       "    <tr>\n",
       "      <th>2043</th>\n",
       "      <td>4</td>\n",
       "      <td>Not Recommended</td>\n",
       "    </tr>\n",
       "    <tr>\n",
       "      <th>2761</th>\n",
       "      <td>5</td>\n",
       "      <td>Mixed Feelings</td>\n",
       "    </tr>\n",
       "    <tr>\n",
       "      <th>1512</th>\n",
       "      <td>10</td>\n",
       "      <td>Recommended</td>\n",
       "    </tr>\n",
       "    <tr>\n",
       "      <th>587</th>\n",
       "      <td>5</td>\n",
       "      <td>Mixed Feelings</td>\n",
       "    </tr>\n",
       "    <tr>\n",
       "      <th>203</th>\n",
       "      <td>4</td>\n",
       "      <td>Not Recommended</td>\n",
       "    </tr>\n",
       "    <tr>\n",
       "      <th>4647</th>\n",
       "      <td>6</td>\n",
       "      <td>Mixed Feelings</td>\n",
       "    </tr>\n",
       "    <tr>\n",
       "      <th>1203</th>\n",
       "      <td>10</td>\n",
       "      <td>Recommended</td>\n",
       "    </tr>\n",
       "    <tr>\n",
       "      <th>2196</th>\n",
       "      <td>8</td>\n",
       "      <td>Mixed Feelings</td>\n",
       "    </tr>\n",
       "  </tbody>\n",
       "</table>\n",
       "</div>"
      ]
     },
     "execution_count": 5,
     "metadata": {},
     "output_type": "execute_result"
    }
   ],
   "execution_count": 5
  },
  {
   "metadata": {
    "ExecuteTime": {
     "end_time": "2025-05-29T12:26:16.762417Z",
     "start_time": "2025-05-29T12:26:14.175972Z"
    }
   },
   "cell_type": "code",
   "source": [
    "model_name = \"cardiffnlp/twitter-roberta-base-sentiment\"\n",
    "tokenizer = AutoTokenizer.from_pretrained(model_name)\n",
    "model = AutoModelForSequenceClassification.from_pretrained(model_name)\n",
    "\n",
    "sentiment_pipeline = pipeline(\n",
    "    \"sentiment-analysis\",\n",
    "    model=model,\n",
    "    tokenizer=tokenizer,\n",
    "    max_length=512,\n",
    "    truncation=True,\n",
    "    padding=True\n",
    ")"
   ],
   "id": "7f039888ea6f1495",
   "outputs": [
    {
     "name": "stderr",
     "output_type": "stream",
     "text": [
      "Device set to use cuda:0\n"
     ]
    }
   ],
   "execution_count": 13
  },
  {
   "metadata": {
    "ExecuteTime": {
     "end_time": "2025-05-29T12:27:57.817089Z",
     "start_time": "2025-05-29T12:26:22.793848Z"
    }
   },
   "cell_type": "code",
   "source": [
    "# Function to get sentiment result\n",
    "def get_sentiment(text):\n",
    "    try:\n",
    "        result = sentiment_pipeline(text)[0]\n",
    "        return pd.Series({\n",
    "            \"label\": result['label'],\n",
    "            \"score\": result['score']\n",
    "        })\n",
    "    except Exception as e:\n",
    "        return pd.Series({\n",
    "            \"label\": \"error\",\n",
    "            \"score\": 0.0\n",
    "        })\n",
    "\n",
    "label_map = {\n",
    "    'LABEL_0': 'negative',\n",
    "    'LABEL_1': 'neutral',\n",
    "    'LABEL_2': 'positive'\n",
    "}\n",
    "\n",
    "sentiment_results = df['review_sentiment'].apply(get_sentiment)\n",
    "sentiment_results['label'] = sentiment_results['label'].map(label_map)\n",
    "\n",
    "df[['roberta_label', 'roberta_score']] = sentiment_results\n",
    "\n",
    "print(df[['review_sentiment', 'roberta_label', 'roberta_score']].head())"
   ],
   "id": "b3a35c8396ef10c3",
   "outputs": [
    {
     "name": "stdout",
     "output_type": "stream",
     "text": [
      "                                    review_sentiment roberta_label  \\\n",
      "0  with lives so short why do we even bother? to ...       neutral   \n",
      "1  i feel so catered to it feels like an eternity...      positive   \n",
      "2  i feel some of the other reviews say it all to...      positive   \n",
      "3  it is been 3 years since i last wrote up a rev...      positive   \n",
      "4  first time i felt compelled to write a review ...      positive   \n",
      "\n",
      "   roberta_score  \n",
      "0       0.643454  \n",
      "1       0.620097  \n",
      "2       0.916868  \n",
      "3       0.937562  \n",
      "4       0.991244  \n"
     ]
    }
   ],
   "execution_count": 14
  },
  {
   "metadata": {
    "ExecuteTime": {
     "end_time": "2025-05-29T12:29:11.235977Z",
     "start_time": "2025-05-29T12:29:11.230595Z"
    }
   },
   "cell_type": "code",
   "source": "df['roberta_label'].value_counts()",
   "id": "5771b49680e29b19",
   "outputs": [
    {
     "data": {
      "text/plain": [
       "roberta_label\n",
       "positive    2180\n",
       "negative    1539\n",
       "neutral     1141\n",
       "Name: count, dtype: int64"
      ]
     },
     "execution_count": 15,
     "metadata": {},
     "output_type": "execute_result"
    }
   ],
   "execution_count": 15
  },
  {
   "metadata": {
    "ExecuteTime": {
     "end_time": "2025-05-29T12:29:19.454849Z",
     "start_time": "2025-05-29T12:29:19.317383Z"
    }
   },
   "cell_type": "code",
   "source": [
    "sns.countplot(data=df, x='roberta_label', order=['positive', 'negative', 'neutral'], palette='Oranges', hue='roberta_label')\n",
    "plt.title('Distribusi Label Sentimen (BERT)')\n",
    "plt.xlabel('Label Sentimen')\n",
    "plt.ylabel('Jumlah Review')\n",
    "plt.tight_layout()\n",
    "plt.show()"
   ],
   "id": "50632cf5531e0c5b",
   "outputs": [
    {
     "data": {
      "text/plain": [
       "<Figure size 640x480 with 1 Axes>"
      ],
      "image/png": "[encoded data removed]"
     },
     "metadata": {},
     "output_type": "display_data"
    }
   ],
   "execution_count": 16
  },
  {
   "metadata": {
    "ExecuteTime": {
     "end_time": "2025-05-29T12:48:53.941646Z",
     "start_time": "2025-05-29T12:48:53.727668Z"
    }
   },
   "cell_type": "code",
   "source": [
    "plt.figure(figsize=(10, 6))\n",
    "sns.histplot(df['roberta_score'], bins=30, kde=True, color='orange')\n",
    "plt.title('Distribution of BERT Score')\n",
    "plt.xlabel('Score')\n",
    "plt.ylabel('Frequency')\n",
    "plt.grid(True)\n",
    "plt.show()"
   ],
   "id": "d72b1954aa499111",
   "outputs": [
    {
     "data": {
      "text/plain": [
       "<Figure size 1000x600 with 1 Axes>"
      ],
      "image/png": "[encoded data removed]"
     },
     "metadata": {},
     "output_type": "display_data"
    }
   ],
   "execution_count": 24
  },
  {
   "metadata": {
    "ExecuteTime": {
     "end_time": "2025-05-29T12:29:48.424632Z",
     "start_time": "2025-05-29T12:29:48.282769Z"
    }
   },
   "cell_type": "code",
   "source": [
    "categories = ['positive', 'negative', 'neutral']\n",
    "matched_recommendations = ['Recommended', 'Not Recommended', 'Mixed Feelings']\n",
    "\n",
    "vader_counts = [df[df['roberta_label'] == cat].shape[0] for cat in categories]\n",
    "recommendation_counts = [\n",
    "    df[df['recommendation'] == rec].shape[0] for rec in matched_recommendations\n",
    "]\n",
    "\n",
    "x = np.arange(len(categories))\n",
    "width = 0.35\n",
    "\n",
    "fig, ax = plt.subplots(figsize=(8, 6))\n",
    "\n",
    "bars1 = ax.bar(x - width/2, vader_counts, width, label='BERT', color='#FFA500')  # Orange\n",
    "bars2 = ax.bar(x + width/2, recommendation_counts, width, label='User Recommendation', color='#4682B4')  # Steel Blue\n",
    "\n",
    "ax.set_ylabel('Jumlah Review')\n",
    "ax.set_title('Perbandingan Label BERT dan Rekomendasi Pengguna')\n",
    "ax.set_xticks(x)\n",
    "ax.set_xticklabels(['Positive', 'Negative', 'Neutral'])\n",
    "ax.legend()\n",
    "ax.grid(axis='y', linestyle='--', alpha=0.7)\n",
    "\n",
    "plt.tight_layout()\n",
    "plt.show()"
   ],
   "id": "8ba53a422e62daba",
   "outputs": [
    {
     "data": {
      "text/plain": [
       "<Figure size 800x600 with 1 Axes>"
      ],
      "image/png": "[encoded data removed]"
     },
     "metadata": {},
     "output_type": "display_data"
    }
   ],
   "execution_count": 18
  },
  {
   "metadata": {
    "ExecuteTime": {
     "end_time": "2025-05-29T12:29:48.514071Z",
     "start_time": "2025-05-29T12:29:48.454252Z"
    }
   },
   "cell_type": "code",
   "source": [
    "def map_recommendation(rec):\n",
    "    if rec == 'Recommended':\n",
    "        return 'positive'\n",
    "    elif rec == 'Not Recommended':\n",
    "        return 'negative'\n",
    "    else:\n",
    "        return 'neutral'\n",
    "\n",
    "df['recommendation_mapped'] = df['recommendation'].apply(map_recommendation)\n",
    "\n",
    "print(\"=== Evaluation for BERT ===\")\n",
    "print(classification_report(df['recommendation_mapped'], df['roberta_label'], digits=3))"
   ],
   "id": "77cedc4fbdaf823a",
   "outputs": [
    {
     "name": "stdout",
     "output_type": "stream",
     "text": [
      "=== Evaluation for BERT ===\n",
      "              precision    recall  f1-score   support\n",
      "\n",
      "    negative      0.556     0.754     0.640      1136\n",
      "     neutral      0.403     0.327     0.361      1405\n",
      "    positive      0.807     0.759     0.782      2319\n",
      "\n",
      "    accuracy                          0.633      4860\n",
      "   macro avg      0.589     0.613     0.594      4860\n",
      "weighted avg      0.632     0.633     0.627      4860\n",
      "\n"
     ]
    }
   ],
   "execution_count": 19
  },
  {
   "metadata": {
    "ExecuteTime": {
     "end_time": "2025-05-29T12:30:14.121636Z",
     "start_time": "2025-05-29T12:30:13.943181Z"
    }
   },
   "cell_type": "code",
   "source": [
    "label_map = {\n",
    "    'Recommended': 'positive',\n",
    "    'Not Recommended': 'negative',\n",
    "    'Mixed Feelings': 'neutral'\n",
    "}\n",
    "\n",
    "df['recommendation_sentiment'] = df['recommendation'].map(label_map)\n",
    "\n",
    "cm_bert = confusion_matrix(df['recommendation_sentiment'], df['roberta_label'], labels=['positive', 'negative', 'neutral'])\n",
    "\n",
    "def plot_confusion_matrix(cm, title):\n",
    "    plt.figure(figsize=(6, 4))\n",
    "    sns.heatmap(cm, annot=True, fmt='d', cmap='Blues',\n",
    "                xticklabels=['positive', 'negative', 'neutral'],\n",
    "                yticklabels=['positive', 'negative', 'neutral'])\n",
    "    plt.xlabel('Predicted Label')\n",
    "    plt.ylabel('Actual Label')\n",
    "    plt.title(title)\n",
    "    plt.tight_layout()\n",
    "    plt.show()\n",
    "\n",
    "plot_confusion_matrix(cm_bert, \"Confusion Matrix - BERT\")"
   ],
   "id": "f61700811e6266ce",
   "outputs": [
    {
     "data": {
      "text/plain": [
       "<Figure size 600x400 with 2 Axes>"
      ],
      "image/png": "[encoded data removed]"
     },
     "metadata": {},
     "output_type": "display_data"
    }
   ],
   "execution_count": 20
  },
  {
   "metadata": {},
   "cell_type": "markdown",
   "source": "### Attempt 2: Fine Tuning",
   "id": "aafe49b942d2660a"
  },
  {
   "metadata": {
    "ExecuteTime": {
     "end_time": "2025-05-29T13:05:36.920868Z",
     "start_time": "2025-05-29T13:05:36.531223Z"
    }
   },
   "cell_type": "code",
   "source": [
    "from transformers import AutoTokenizer, AutoModelForSequenceClassification, Trainer, TrainingArguments\n",
    "from sklearn.model_selection import train_test_split\n",
    "from sklearn.preprocessing import LabelEncoder\n",
    "from datasets import Dataset\n",
    "import pandas as pd\n",
    "\n",
    "# Encode labels\n",
    "label_encoder = LabelEncoder()\n",
    "df['label'] = label_encoder.fit_transform(df['recommendation'])  # 0 = negative, 1 = neutral, 2 = positive\n",
    "\n",
    "# Split data\n",
    "train_df, test_df = train_test_split(df, test_size=0.2, random_state=42, stratify=df['label'])\n",
    "\n",
    "# Convert to Hugging Face Dataset\n",
    "train_dataset = Dataset.from_pandas(train_df[['review_sentiment', 'label']])\n",
    "test_dataset = Dataset.from_pandas(test_df[['review_sentiment', 'label']])"
   ],
   "id": "e60faaf0066a1b9b",
   "outputs": [],
   "execution_count": 3
  },
  {
   "metadata": {
    "ExecuteTime": {
     "end_time": "2025-05-29T13:32:08.516520Z",
     "start_time": "2025-05-29T13:31:30.562100Z"
    }
   },
   "cell_type": "code",
   "source": [
    "# tokenizer = AutoTokenizer.from_pretrained(\"bert-base-uncased\")\n",
    "from transformers import AutoTokenizer, AutoModelForSequenceClassification\n",
    "\n",
    "model_name = \"distilbert-base-uncased\"  # <- Correct name\n",
    "\n",
    "tokenizer = AutoTokenizer.from_pretrained(model_name)\n",
    "\n",
    "def tokenize_function(example):\n",
    "    return tokenizer(\n",
    "        example[\"review_sentiment\"],\n",
    "        padding=\"max_length\",\n",
    "        truncation=True,\n",
    "        max_length=512\n",
    "    )\n",
    "\n",
    "train_dataset = train_dataset.map(tokenize_function, batched=True)\n",
    "test_dataset = test_dataset.map(tokenize_function, batched=True)\n"
   ],
   "id": "3b5a86c76d940cff",
   "outputs": [
    {
     "name": "stderr",
     "output_type": "stream",
     "text": [
      "/home/miellilas/Documents/pba/myanimelist/venv/lib/python3.12/site-packages/huggingface_hub/file_download.py:943: FutureWarning: `resume_download` is deprecated and will be removed in version 1.0.0. Downloads always resume when possible. If you want to force a new download, use `force_download=True`.\n",
      "  warnings.warn(\n",
      "Xet Storage is enabled for this repo, but the 'hf_xet' package is not installed. Falling back to regular HTTP download. For better performance, install the package with: `pip install huggingface_hub[hf_xet]` or `pip install hf_xet`\n",
      "Some weights of DistilBertForSequenceClassification were not initialized from the model checkpoint at distilbert-base-uncased and are newly initialized: ['classifier.bias', 'classifier.weight', 'pre_classifier.bias', 'pre_classifier.weight']\n",
      "You should probably TRAIN this model on a down-stream task to be able to use it for predictions and inference.\n",
      "Map: 100%|██████████| 3888/3888 [00:01<00:00, 2931.72 examples/s]\n",
      "Map: 100%|██████████| 972/972 [00:00<00:00, 3045.41 examples/s]\n"
     ]
    }
   ],
   "execution_count": 10
  },
  {
   "metadata": {
    "ExecuteTime": {
     "end_time": "2025-05-29T13:32:13.392542Z",
     "start_time": "2025-05-29T13:32:13.386872Z"
    }
   },
   "cell_type": "code",
   "source": [
    "# model = AutoModelForSequenceClassification.from_pretrained(\"bert-base-uncased\", num_labels=3)\n",
    "model = AutoModelForSequenceClassification.from_pretrained(\"distilbert-base-uncased\", num_labels=3)\n",
    "\n",
    "training_args = TrainingArguments(\n",
    "    output_dir=\"../results\",\n",
    "    evaluation_strategy=\"epoch\",\n",
    "    save_strategy=\"epoch\",\n",
    "    no_cuda=True,\n",
    "    per_device_train_batch_size=8,\n",
    "    per_device_eval_batch_size=8,\n",
    "    num_train_epochs=1,\n",
    "    learning_rate=2e-5,\n",
    "    weight_decay=0.01,\n",
    "    logging_dir=\"./logs\",\n",
    "    load_best_model_at_end=True,\n",
    "    metric_for_best_model=\"accuracy\",\n",
    ")\n"
   ],
   "id": "7f5992271ca9f078",
   "outputs": [
    {
     "name": "stderr",
     "output_type": "stream",
     "text": [
      "/home/miellilas/Documents/pba/myanimelist/venv/lib/python3.12/site-packages/transformers/training_args.py:1453: FutureWarning: using `no_cuda` is deprecated and will be removed in version 5.0 of 🤗 Transformers. Use `use_cpu` instead\n",
      "  warnings.warn(\n"
     ]
    }
   ],
   "execution_count": 11
  },
  {
   "metadata": {
    "ExecuteTime": {
     "end_time": "2025-05-29T13:32:17.234909Z",
     "start_time": "2025-05-29T13:32:17.202053Z"
    }
   },
   "cell_type": "code",
   "source": [
    "from sklearn.metrics import accuracy_score, f1_score\n",
    "import numpy as np\n",
    "\n",
    "def compute_metrics(eval_pred):\n",
    "    logits, labels = eval_pred\n",
    "    predictions = np.argmax(logits, axis=-1)\n",
    "    return {\n",
    "        \"accuracy\": accuracy_score(labels, predictions),\n",
    "        \"f1_macro\": f1_score(labels, predictions, average=\"macro\")\n",
    "    }\n",
    "\n",
    "trainer = Trainer(\n",
    "    model=model,\n",
    "    args=training_args,\n",
    "    train_dataset=train_dataset,\n",
    "    eval_dataset=test_dataset,\n",
    "    tokenizer=tokenizer,\n",
    "    compute_metrics=compute_metrics\n",
    ")\n"
   ],
   "id": "ba6b2132fd83a8d2",
   "outputs": [],
   "execution_count": 12
  },
  {
   "metadata": {
    "ExecuteTime": {
     "end_time": "2025-05-29T14:23:36.899926Z",
     "start_time": "2025-05-29T13:32:19.090551Z"
    }
   },
   "cell_type": "code",
   "source": "trainer.train()\n",
   "id": "dab9f312f00fa685",
   "outputs": [
    {
     "data": {
      "text/plain": [
       "<IPython.core.display.HTML object>"
      ],
      "text/html": [
       "\n",
       "    <div>\n",
       "      \n",
       "      <progress value='486' max='486' style='width:300px; height:20px; vertical-align: middle;'></progress>\n",
       "      [486/486 51:11, Epoch 1/1]\n",
       "    </div>\n",
       "    <table border=\"1\" class=\"dataframe\">\n",
       "  <thead>\n",
       " <tr style=\"text-align: left;\">\n",
       "      <th>Epoch</th>\n",
       "      <th>Training Loss</th>\n",
       "      <th>Validation Loss</th>\n",
       "      <th>Accuracy</th>\n",
       "      <th>F1 Macro</th>\n",
       "    </tr>\n",
       "  </thead>\n",
       "  <tbody>\n",
       "    <tr>\n",
       "      <td>1</td>\n",
       "      <td>No log</td>\n",
       "      <td>0.679031</td>\n",
       "      <td>0.689300</td>\n",
       "      <td>0.645569</td>\n",
       "    </tr>\n",
       "  </tbody>\n",
       "</table><p>"
      ]
     },
     "metadata": {},
     "output_type": "display_data"
    },
    {
     "data": {
      "text/plain": [
       "TrainOutput(global_step=486, training_loss=0.7738264421376672, metrics={'train_runtime': 3077.5649, 'train_samples_per_second': 1.263, 'train_steps_per_second': 0.158, 'total_flos': 515042430861312.0, 'train_loss': 0.7738264421376672, 'epoch': 1.0})"
      ]
     },
     "execution_count": 13,
     "metadata": {},
     "output_type": "execute_result"
    }
   ],
   "execution_count": 13
  },
  {
   "metadata": {
    "ExecuteTime": {
     "end_time": "2025-05-29T14:26:13.087654Z",
     "start_time": "2025-05-29T14:23:39.721151Z"
    }
   },
   "cell_type": "code",
   "source": "trainer.evaluate()\n",
   "id": "3c88efd9c4bf8fb5",
   "outputs": [
    {
     "data": {
      "text/plain": [
       "<IPython.core.display.HTML object>"
      ],
      "text/html": []
     },
     "metadata": {},
     "output_type": "display_data"
    },
    {
     "data": {
      "text/plain": [
       "{'eval_loss': 0.6790305376052856,\n",
       " 'eval_accuracy': 0.6893004115226338,\n",
       " 'eval_f1_macro': 0.6455688867412323,\n",
       " 'eval_runtime': 153.3602,\n",
       " 'eval_samples_per_second': 6.338,\n",
       " 'eval_steps_per_second': 0.796,\n",
       " 'epoch': 1.0}"
      ]
     },
     "execution_count": 14,
     "metadata": {},
     "output_type": "execute_result"
    }
   ],
   "execution_count": 14
  },
  {
   "metadata": {
    "ExecuteTime": {
     "end_time": "2025-05-29T14:29:20.189131Z",
     "start_time": "2025-05-29T14:26:51.017528Z"
    }
   },
   "cell_type": "code",
   "source": [
    "from sklearn.metrics import classification_report\n",
    "\n",
    "# Step 1: Make predictions using your Trainer\n",
    "predictions = trainer.predict(test_dataset)\n",
    "\n",
    "# Step 2: Get predicted labels (the class with the highest score)\n",
    "preds = predictions.predictions.argmax(-1)\n",
    "\n",
    "# Step 3: Get true labels from the dataset\n",
    "labels = predictions.label_ids\n",
    "\n",
    "# Step 4: Print detailed classification report\n",
    "print(classification_report(labels, preds, target_names=['negative', 'neutral', 'positive']))\n"
   ],
   "id": "a98924824a403ef",
   "outputs": [
    {
     "name": "stdout",
     "output_type": "stream",
     "text": [
      "              precision    recall  f1-score   support\n",
      "\n",
      "    negative       0.50      0.47      0.49       281\n",
      "     neutral       0.64      0.59      0.61       227\n",
      "    positive       0.81      0.87      0.84       464\n",
      "\n",
      "    accuracy                           0.69       972\n",
      "   macro avg       0.65      0.64      0.65       972\n",
      "weighted avg       0.68      0.69      0.68       972\n",
      "\n"
     ]
    }
   ],
   "execution_count": 15
  }
 ],
 "metadata": {
  "kernelspec": {
   "display_name": "Python 3",
   "language": "python",
   "name": "python3"
  },
  "language_info": {
   "codemirror_mode": {
    "name": "ipython",
    "version": 2
   },
   "file_extension": ".py",
   "mimetype": "text/x-python",
   "name": "python",
   "nbconvert_exporter": "python",
   "pygments_lexer": "ipython2",
   "version": "2.7.6"
  }
 },
 "nbformat": 4,
 "nbformat_minor": 5
}

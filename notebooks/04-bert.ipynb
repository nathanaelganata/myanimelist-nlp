{
 "cells": [
  {
   "cell_type": "code",
   "id": "ce144022",
   "metadata": {
    "ExecuteTime": {
     "end_time": "2025-06-25T12:23:45.933595Z",
     "start_time": "2025-06-25T12:23:45.929802Z"
    }
   },
   "source": [
    "# Import necessary libraries\n",
    "from transformers import BertTokenizer, BertForSequenceClassification, Trainer, TrainingArguments\n",
    "from sklearn.model_selection import train_test_split\n",
    "from sklearn.metrics import accuracy_score, precision_recall_fscore_support, confusion_matrix\n",
    "import torch\n",
    "import pandas as pd\n",
    "import matplotlib.pyplot as plt\n",
    "from torch.utils.data import Dataset\n",
    "import os\n",
    "os.environ[\"CUDA_VISIBLE_DEVICES\"] = \"\"\n"
   ],
   "outputs": [],
   "execution_count": 6
  },
  {
   "cell_type": "code",
   "id": "8a6aa2a3",
   "metadata": {
    "ExecuteTime": {
     "end_time": "2025-06-25T12:22:05.583417Z",
     "start_time": "2025-06-25T12:22:04.711640Z"
    }
   },
   "source": [
    "# Load dataset\n",
    "data = pd.read_csv('../data/processed/top_150_fantasy_reviews_balanced_capped_cleaned.csv')\n",
    "texts = data['review']\n",
    "labels = data['recommendation'].map({'Recommended': 2, 'Mixed Feelings': 1, 'Not Recommended': 0})\n",
    "\n",
    "# Tokenizer\n",
    "model_name = 'nlptown/bert-base-multilingual-uncased-sentiment'\n",
    "tokenizer = BertTokenizer.from_pretrained(model_name)\n",
    "\n",
    "def tokenize_data(data, tokenizer):\n",
    "    return tokenizer(data.tolist(), padding=True, truncation=True)"
   ],
   "outputs": [
    {
     "name": "stderr",
     "output_type": "stream",
     "text": [
      "/home/miellilas/Documents/pba/myanimelist/venv/lib/python3.12/site-packages/huggingface_hub/file_download.py:943: FutureWarning: `resume_download` is deprecated and will be removed in version 1.0.0. Downloads always resume when possible. If you want to force a new download, use `force_download=True`.\n",
      "  warnings.warn(\n"
     ]
    }
   ],
   "execution_count": 2
  },
  {
   "cell_type": "code",
   "id": "2e63a32e",
   "metadata": {
    "ExecuteTime": {
     "end_time": "2025-06-25T12:22:35.592765Z",
     "start_time": "2025-06-25T12:22:06.733161Z"
    }
   },
   "source": [
    "# Split the dataset\n",
    "train_texts, temp_texts, train_labels, temp_labels = train_test_split(texts, labels, test_size=0.3, random_state=42)\n",
    "val_texts, test_texts, val_labels, test_labels = train_test_split(temp_texts, temp_labels, test_size=0.5, random_state=42)\n",
    "\n",
    "# Tokenize\n",
    "train_encodings = tokenize_data(train_texts, tokenizer)\n",
    "val_encodings = tokenize_data(val_texts, tokenizer)\n",
    "test_encodings = tokenize_data(test_texts, tokenizer)\n",
    "\n",
    "# Custom Dataset Wrapper\n",
    "class CustomDataset(Dataset):\n",
    "    def __init__(self, encodings, labels):\n",
    "        self.encodings = encodings\n",
    "        self.labels = list(labels)\n",
    "\n",
    "    def __getitem__(self, idx):\n",
    "        item = {key: torch.tensor(val[idx]) for key, val in self.encodings.items()}\n",
    "        item[\"labels\"] = torch.tensor(self.labels[idx])\n",
    "        return item\n",
    "\n",
    "    def __len__(self):\n",
    "        return len(self.labels)\n",
    "\n",
    "# Wrap datasets\n",
    "train_dataset = CustomDataset(train_encodings, train_labels)\n",
    "val_dataset = CustomDataset(val_encodings, val_labels)\n",
    "test_dataset = CustomDataset(test_encodings, test_labels)\n"
   ],
   "outputs": [],
   "execution_count": 3
  },
  {
   "cell_type": "code",
   "id": "37d2ed73",
   "metadata": {
    "ExecuteTime": {
     "end_time": "2025-06-25T15:22:18.233772Z",
     "start_time": "2025-06-25T12:25:00.968885Z"
    }
   },
   "source": [
    "# Load model\n",
    "model = BertForSequenceClassification.from_pretrained(\n",
    "    model_name, \n",
    "    num_labels=3,\n",
    "    ignore_mismatched_sizes=True\n",
    ")\n",
    "\n",
    "# Define training arguments\n",
    "training_args = TrainingArguments(\n",
    "    output_dir='./results',\n",
    "    # eval_strategy='epoch',\n",
    "    save_strategy='epoch',\n",
    "    learning_rate=2e-5,\n",
    "    per_device_train_batch_size=4,\n",
    "    per_device_eval_batch_size=4,\n",
    "    gradient_accumulation_steps=4,\n",
    "    fp16=False,\n",
    "    num_train_epochs=3,\n",
    "    weight_decay=0.01,\n",
    "    report_to=[],\n",
    "    logging_strategy='no',\n",
    "    no_cuda=True\n",
    ")\n",
    "\n",
    "# Trainer\n",
    "trainer = Trainer(\n",
    "    model=model,\n",
    "    args=training_args,\n",
    "    train_dataset=train_dataset,\n",
    "    eval_dataset=val_dataset,\n",
    ")\n",
    "\n",
    "# Train\n",
    "trainer.train()"
   ],
   "outputs": [
    {
     "name": "stderr",
     "output_type": "stream",
     "text": [
      "/home/miellilas/Documents/pba/myanimelist/venv/lib/python3.12/site-packages/huggingface_hub/file_download.py:943: FutureWarning: `resume_download` is deprecated and will be removed in version 1.0.0. Downloads always resume when possible. If you want to force a new download, use `force_download=True`.\n",
      "  warnings.warn(\n",
      "Some weights of BertForSequenceClassification were not initialized from the model checkpoint at nlptown/bert-base-multilingual-uncased-sentiment and are newly initialized because the shapes did not match:\n",
      "- classifier.bias: found shape torch.Size([5]) in the checkpoint and torch.Size([3]) in the model instantiated\n",
      "- classifier.weight: found shape torch.Size([5, 768]) in the checkpoint and torch.Size([3, 768]) in the model instantiated\n",
      "You should probably TRAIN this model on a down-stream task to be able to use it for predictions and inference.\n",
      "/home/miellilas/Documents/pba/myanimelist/venv/lib/python3.12/site-packages/transformers/training_args.py:1453: FutureWarning: using `no_cuda` is deprecated and will be removed in version 5.0 of 🤗 Transformers. Use `use_cpu` instead\n",
      "  warnings.warn(\n"
     ]
    },
    {
     "data": {
      "text/plain": [
       "<IPython.core.display.HTML object>"
      ],
      "text/html": [
       "\n",
       "    <div>\n",
       "      \n",
       "      <progress value='447' max='447' style='width:300px; height:20px; vertical-align: middle;'></progress>\n",
       "      [447/447 2:56:48, Epoch 2/3]\n",
       "    </div>\n",
       "    <table border=\"1\" class=\"dataframe\">\n",
       "  <thead>\n",
       " <tr style=\"text-align: left;\">\n",
       "      <th>Step</th>\n",
       "      <th>Training Loss</th>\n",
       "    </tr>\n",
       "  </thead>\n",
       "  <tbody>\n",
       "  </tbody>\n",
       "</table><p>"
      ]
     },
     "metadata": {},
     "output_type": "display_data"
    },
    {
     "data": {
      "text/plain": [
       "TrainOutput(global_step=447, training_loss=0.5370434583966898, metrics={'train_runtime': 10634.7128, 'train_samples_per_second': 0.673, 'train_steps_per_second': 0.042, 'total_flos': 1880208483084288.0, 'train_loss': 0.5370434583966898, 'epoch': 2.9949748743718594})"
      ]
     },
     "execution_count": 9,
     "metadata": {},
     "output_type": "execute_result"
    }
   ],
   "execution_count": 9
  },
  {
   "cell_type": "code",
   "id": "0de63012",
   "metadata": {
    "ExecuteTime": {
     "end_time": "2025-06-25T15:27:03.966439Z",
     "start_time": "2025-06-25T15:24:28.877777Z"
    }
   },
   "source": [
    "# Evaluate the model\n",
    "def compute_metrics(pred):\n",
    "    labels = pred.label_ids\n",
    "    preds = pred.predictions.argmax(-1)\n",
    "    precision, recall, f1, _ = precision_recall_fscore_support(labels, preds, average='weighted')\n",
    "    acc = accuracy_score(labels, preds)\n",
    "    return {\n",
    "        'accuracy': acc,\n",
    "        'precision': precision,\n",
    "        'recall': recall,\n",
    "        'f1': f1,\n",
    "    }\n",
    "\n",
    "# Reattach compute_metrics (doesn't retrain, just sets up evaluation)\n",
    "trainer2 = Trainer(\n",
    "    model=model,\n",
    "    args=training_args,\n",
    "    train_dataset=train_dataset,   # optional here\n",
    "    eval_dataset=val_dataset,      # optional here\n",
    "    compute_metrics=compute_metrics\n",
    ")\n",
    "\n",
    "# Evaluate on test set\n",
    "metrics = trainer2.evaluate(eval_dataset=test_dataset, metric_key_prefix='test')\n",
    "\n",
    "# Print metrics\n",
    "for key in ['test_accuracy', 'test_precision', 'test_recall', 'test_f1']:\n",
    "    print(f\"{key}: {metrics[key]:.4f}\")\n"
   ],
   "outputs": [
    {
     "data": {
      "text/plain": [
       "<IPython.core.display.HTML object>"
      ],
      "text/html": []
     },
     "metadata": {},
     "output_type": "display_data"
    },
    {
     "data": {
      "text/plain": [
       "{'test_loss': 0.7478624582290649,\n",
       " 'test_runtime': 155.0829,\n",
       " 'test_samples_per_second': 3.301,\n",
       " 'test_steps_per_second': 0.825,\n",
       " 'epoch': 2.9949748743718594}"
      ]
     },
     "execution_count": 11,
     "metadata": {},
     "output_type": "execute_result"
    }
   ],
   "execution_count": 11
  },
  {
   "metadata": {
    "ExecuteTime": {
     "end_time": "2025-06-25T15:37:39.687436Z",
     "start_time": "2025-06-25T15:37:39.509650Z"
    }
   },
   "cell_type": "code",
   "source": [
    "import seaborn as sns\n",
    "\n",
    "labels = ['positive', 'negative', 'neutral']\n",
    "\n",
    "plt.figure(figsize=(10, 8))\n",
    "sns.heatmap(conf_matrix, annot=True, fmt='d', cmap='Blues',\n",
    "            xticklabels=labels, yticklabels=labels)\n",
    "plt.title('Confusion Matrix - BERT')\n",
    "plt.xlabel('Predicted Label')\n",
    "plt.ylabel('Actual Label')\n",
    "plt.tight_layout()\n",
    "plt.show()\n"
   ],
   "id": "40ac1d8133f6f211",
   "outputs": [
    {
     "data": {
      "text/plain": [
       "<Figure size 1000x800 with 2 Axes>"
      ],
      "image/png": "[encoded data removed]"
     },
     "metadata": {},
     "output_type": "display_data"
    }
   ],
   "execution_count": 20
  },
  {
   "metadata": {
    "ExecuteTime": {
     "end_time": "2025-06-25T15:43:57.386947Z",
     "start_time": "2025-06-25T15:43:57.382803Z"
    }
   },
   "cell_type": "code",
   "source": [
    "num_test = len(test_dataset)\n",
    "df_test = data.iloc[-num_test:].copy()\n",
    "df_test['bert_label'] = bert_preds"
   ],
   "id": "26fd983fef513ede",
   "outputs": [],
   "execution_count": 24
  },
  {
   "metadata": {
    "ExecuteTime": {
     "end_time": "2025-06-25T15:43:58.889945Z",
     "start_time": "2025-06-25T15:43:58.884849Z"
    }
   },
   "cell_type": "code",
   "source": [
    "def map_recommendation(rec):\n",
    "    if rec == 'Recommended':\n",
    "        return 'positive'\n",
    "    elif rec == 'Not Recommended':\n",
    "        return 'negative'\n",
    "    else:\n",
    "        return 'neutral'\n",
    "\n",
    "df_test['recommendation_mapped'] = df_test['recommendation'].apply(map_recommendation)"
   ],
   "id": "da2a134cea48980f",
   "outputs": [],
   "execution_count": 25
  },
  {
   "metadata": {
    "ExecuteTime": {
     "end_time": "2025-06-25T15:47:53.990168Z",
     "start_time": "2025-06-25T15:47:53.971875Z"
    }
   },
   "cell_type": "code",
   "source": [
    "# Inverse map for predictions\n",
    "label_map_inv = {2: 'positive', 0: 'negative', 1: 'neutral'}\n",
    "\n",
    "# Create evaluation DataFrame from the test split\n",
    "df_eval = pd.DataFrame({\n",
    "    'review': test_texts.values,\n",
    "    'true_label': test_labels.map(label_map_inv).values,\n",
    "    'predicted_label': [label_map_inv[i] for i in preds.predictions.argmax(-1)]\n",
    "})\n",
    "\n",
    "# Classification report\n",
    "from sklearn.metrics import classification_report\n",
    "\n",
    "print(\"=== BERT Evaluation (aligned with trainer test split) ===\")\n",
    "print(classification_report(df_eval['true_label'], df_eval['predicted_label'], digits=3))\n"
   ],
   "id": "82b3f351b131b39a",
   "outputs": [
    {
     "name": "stdout",
     "output_type": "stream",
     "text": [
      "=== BERT Evaluation (aligned with trainer test split) ===\n",
      "              precision    recall  f1-score   support\n",
      "\n",
      "    negative      0.679     0.723     0.700       155\n",
      "     neutral      0.665     0.582     0.621       194\n",
      "    positive      0.791     0.859     0.824       163\n",
      "\n",
      "    accuracy                          0.713       512\n",
      "   macro avg      0.711     0.721     0.715       512\n",
      "weighted avg      0.709     0.713     0.709       512\n",
      "\n"
     ]
    }
   ],
   "execution_count": 30
  },
  {
   "metadata": {
    "ExecuteTime": {
     "end_time": "2025-06-25T15:49:01.434105Z",
     "start_time": "2025-06-25T15:49:01.272423Z"
    }
   },
   "cell_type": "code",
   "source": [
    "import numpy as np\n",
    "import matplotlib.pyplot as plt\n",
    "\n",
    "# Define sentiment categories in desired order\n",
    "categories = ['positive', 'negative', 'neutral']\n",
    "\n",
    "# Count user-mapped recommendations\n",
    "recommendation_counts = [df_test[df_test['recommendation_mapped'] == cat].shape[0] for cat in categories]\n",
    "\n",
    "# Count BERT predictions\n",
    "bert_counts = [df_test[df_test['bert_label'] == cat].shape[0] for cat in categories]\n",
    "\n",
    "# Bar plot parameters\n",
    "x = np.arange(len(categories))\n",
    "width = 0.35\n",
    "\n",
    "# Create the plot\n",
    "fig, ax = plt.subplots(figsize=(8, 6))\n",
    "bars1 = ax.bar(x - width/2, recommendation_counts, width, label='User Recommendation')\n",
    "bars2 = ax.bar(x + width/2, bert_counts, width, label='BERT Prediction')\n",
    "\n",
    "# Formatting\n",
    "ax.set_ylabel('Count')\n",
    "ax.set_title('BERT Predictions vs User Recommendation by Sentiment Category')\n",
    "ax.set_xticks(x)\n",
    "ax.set_xticklabels(categories)\n",
    "ax.legend()\n",
    "ax.grid(axis='y')\n",
    "\n",
    "plt.tight_layout()\n",
    "plt.show()\n"
   ],
   "id": "a2a822bfb88a102a",
   "outputs": [
    {
     "data": {
      "text/plain": [
       "<Figure size 800x600 with 1 Axes>"
      ],
      "image/png": "[encoded data removed]"
     },
     "metadata": {},
     "output_type": "display_data"
    }
   ],
   "execution_count": 31
  }
 ],
 "metadata": {
  "kernelspec": {
   "display_name": "Python 3",
   "language": "python",
   "name": "python3"
  },
  "language_info": {
   "codemirror_mode": {
    "name": "ipython",
    "version": 3
   },
   "file_extension": ".py",
   "mimetype": "text/x-python",
   "name": "python",
   "nbconvert_exporter": "python",
   "pygments_lexer": "ipython3",
   "version": "3.11.0"
  }
 },
 "nbformat": 4,
 "nbformat_minor": 5
}

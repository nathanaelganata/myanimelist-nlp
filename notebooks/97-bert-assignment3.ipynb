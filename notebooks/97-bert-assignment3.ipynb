{
 "cells": [
  {
   "cell_type": "code",
   "id": "initial_id",
   "metadata": {
    "collapsed": true
   },
   "source": [
    "import pandas as pd\n",
    "import torch\n",
    "from transformers import BertTokenizer, BertForSequenceClassification, Trainer, TrainingArguments\n",
    "from sklearn.preprocessing import LabelEncoder\n",
    "from datasets import Dataset, DatasetDict\n"
   ],
   "outputs": [],
   "execution_count": null
  },
  {
   "metadata": {},
   "cell_type": "code",
   "source": [
    "# Load your dataset\n",
    "df = pd.read_csv(\"../data/processed/top_150_fantasy_reviews_cleaned_balanced.csv\")\n",
    "\n",
    "# Map recommendation to sentiment labels\n",
    "def map_recommendation(rec):\n",
    "    if rec == 'Recommended':\n",
    "        return 'positive'\n",
    "    elif rec == 'Not Recommended':\n",
    "        return 'negative'\n",
    "    else:\n",
    "        return 'neutral'\n",
    "\n",
    "df[\"label_text\"] = df[\"recommendation\"].map(map_recommendation)\n",
    "\n",
    "# Encode labels (e.g., positive → 2, negative → 0, etc.)\n",
    "label_encoder = LabelEncoder()\n",
    "df[\"label\"] = label_encoder.fit_transform(df[\"label_text\"])\n",
    "\n",
    "# Show class mappings\n",
    "print(\"Label classes:\", label_encoder.classes_)\n",
    "\n",
    "# Select only relevant columns\n",
    "df = df[[\"review_sentiment\", \"label\"]].rename(columns={\"review_sentiment\": \"text\"})\n"
   ],
   "id": "c20228c1f4a1d7ae",
   "outputs": [],
   "execution_count": null
  },
  {
   "metadata": {},
   "cell_type": "code",
   "source": [
    "dataset = Dataset.from_pandas(df)\n",
    "dataset = dataset.train_test_split(test_size=0.2, seed=42)\n"
   ],
   "id": "8dc8654a4d039aa",
   "outputs": [],
   "execution_count": null
  },
  {
   "metadata": {},
   "cell_type": "code",
   "source": [
    "tokenizer = BertTokenizer.from_pretrained(\"bert-base-uncased\")\n",
    "\n",
    "def tokenize_function(example):\n",
    "    return tokenizer(example[\"text\"], padding=\"max_length\", truncation=True)\n",
    "\n",
    "tokenized_dataset = dataset.map(tokenize_function, batched=True)\n"
   ],
   "id": "978ea61d26533420",
   "outputs": [],
   "execution_count": null
  },
  {
   "metadata": {},
   "cell_type": "code",
   "source": [
    "num_labels = len(label_encoder.classes_)  # Usually 3 (positive, neutral, negative)\n",
    "\n",
    "model = BertForSequenceClassification.from_pretrained(\"bert-base-uncased\", num_labels=num_labels)\n"
   ],
   "id": "9f3184784dff521",
   "outputs": [],
   "execution_count": null
  },
  {
   "metadata": {},
   "cell_type": "code",
   "source": [
    "device = torch.device(\"cpu\")\n",
    "\n",
    "training_args = TrainingArguments(\n",
    "    output_dir=\"./results\",\n",
    "    evaluation_strategy=\"no\",\n",
    "    save_strategy=\"no\",\n",
    "    num_train_epochs=1,\n",
    "    per_device_train_batch_size=2,\n",
    "    per_device_eval_batch_size=2,\n",
    "    logging_steps=1000000,\n",
    "    logging_dir=\"./logs\",\n",
    "    disable_tqdm=True,\n",
    "    report_to=\"none\",\n",
    "    dataloader_num_workers=16,\n",
    "    remove_unused_columns=True,\n",
    "    fp16=False,\n",
    "    no_cuda=True  # <--- This disables CUDA entirely\n",
    ")\n"
   ],
   "id": "fba8fab6d51b8407",
   "outputs": [],
   "execution_count": null
  },
  {
   "metadata": {},
   "cell_type": "code",
   "source": [
    "trainer = Trainer(\n",
    "    model=model,\n",
    "    args=training_args,\n",
    "    train_dataset=tokenized_dataset[\"train\"].select(range(300)),\n",
    "    eval_dataset=tokenized_dataset[\"test\"].select(range(100)),\n",
    ")\n",
    "\n",
    "trainer.train()\n"
   ],
   "id": "12b446273540e013",
   "outputs": [],
   "execution_count": null
  },
  {
   "metadata": {},
   "cell_type": "code",
   "source": [
    "predictions = trainer.predict(tokenized_dataset[\"test\"])\n",
    "preds = torch.argmax(torch.tensor(predictions.predictions), dim=1)\n",
    "labels = torch.tensor(predictions.label_ids)\n",
    "\n",
    "accuracy = (preds == labels).sum().item() / len(labels)\n",
    "print(f\"Test Accuracy: {accuracy * 100:.2f}%\")\n"
   ],
   "id": "92a1b28b098cc194",
   "outputs": [],
   "execution_count": null
  },
  {
   "metadata": {},
   "cell_type": "code",
   "source": [
    "def predict_sentiment(text):\n",
    "    inputs = tokenizer(text, return_tensors=\"pt\", padding=True, truncation=True)\n",
    "    with torch.no_grad():\n",
    "        logits = model(**inputs).logits\n",
    "    predicted_class = torch.argmax(logits).item()\n",
    "    return label_encoder.inverse_transform([predicted_class])[0]\n",
    "\n",
    "# Try it out\n",
    "print(predict_sentiment(\"The plot was amazing, I enjoyed every moment.\"))\n",
    "print(predict_sentiment(\"I found it boring and hard to follow.\"))\n"
   ],
   "id": "444361bc1c06c21d",
   "outputs": [],
   "execution_count": null
  },
  {
   "metadata": {},
   "cell_type": "code",
   "source": "",
   "id": "1ca9e6b5626d867e",
   "outputs": [],
   "execution_count": null
  },
  {
   "metadata": {
    "ExecuteTime": {
     "end_time": "2025-06-11T12:41:04.700825Z",
     "start_time": "2025-06-11T12:38:42.698656Z"
    }
   },
   "cell_type": "code",
   "source": [
    "import pandas as pd\n",
    "import torch\n",
    "from transformers import BertTokenizer, BertForSequenceClassification, Trainer, TrainingArguments\n",
    "from sklearn.preprocessing import LabelEncoder\n",
    "from sklearn.metrics import accuracy_score\n",
    "from datasets import Dataset\n",
    "import numpy as np\n",
    "\n",
    "# Load dataset\n",
    "df = pd.read_csv(\"../data/processed/top_150_fantasy_reviews_cleaned_balanced.csv\")\n",
    "\n",
    "# Map recommendation to sentiment labels\n",
    "def map_recommendation(rec):\n",
    "    if rec == 'Recommended':\n",
    "        return 'positive'\n",
    "    elif rec == 'Not Recommended':\n",
    "        return 'negative'\n",
    "    else:\n",
    "        return 'neutral'\n",
    "\n",
    "df[\"label_text\"] = df[\"recommendation\"].apply(map_recommendation)\n",
    "\n",
    "# Encode labels\n",
    "label_encoder = LabelEncoder()\n",
    "df[\"label\"] = label_encoder.fit_transform(df[\"label_text\"])\n",
    "\n",
    "print(\"Label classes:\", label_encoder.classes_)\n",
    "\n",
    "# Prepare data\n",
    "df = df[[\"review_sentiment\", \"label\"]].rename(columns={\"review_sentiment\": \"text\"})\n",
    "df = df.dropna()  # Remove any NaN values\n",
    "\n",
    "# Create dataset\n",
    "dataset = Dataset.from_pandas(df)\n",
    "dataset = dataset.train_test_split(test_size=0.2, seed=42)\n",
    "\n",
    "# Initialize tokenizer\n",
    "tokenizer = BertTokenizer.from_pretrained(\"bert-base-uncased\")\n",
    "\n",
    "def tokenize_function(examples):\n",
    "    return tokenizer(\n",
    "        examples[\"text\"],\n",
    "        padding=\"max_length\",\n",
    "        truncation=True,\n",
    "        max_length=512\n",
    "    )\n",
    "\n",
    "# Tokenize datasets\n",
    "tokenized_dataset = dataset.map(tokenize_function, batched=True)\n",
    "\n",
    "# Model setup\n",
    "num_labels = len(label_encoder.classes_)\n",
    "model = BertForSequenceClassification.from_pretrained(\"bert-base-uncased\", num_labels=num_labels)\n",
    "\n",
    "# Training arguments\n",
    "training_args = TrainingArguments(\n",
    "    output_dir=\"./results\",\n",
    "    evaluation_strategy=\"epoch\",\n",
    "    save_strategy=\"no\",\n",
    "    num_train_epochs=1,\n",
    "    per_device_train_batch_size=8,\n",
    "    per_device_eval_batch_size=8,\n",
    "    logging_steps=50,\n",
    "    logging_dir=\"./logs\",\n",
    "    disable_tqdm=False,\n",
    "    report_to=\"none\",\n",
    "    dataloader_num_workers=0,  # Set to 0 to avoid multiprocessing issues\n",
    "    remove_unused_columns=True,\n",
    "    fp16=False,\n",
    "    use_cpu=True\n",
    ")\n",
    "\n",
    "# Metric function\n",
    "def compute_metrics(eval_pred):\n",
    "    predictions, labels = eval_pred\n",
    "    predictions = np.argmax(predictions, axis=1)\n",
    "    return {\"accuracy\": accuracy_score(labels, predictions)}\n",
    "\n",
    "# Trainer with small subset for fast training\n",
    "trainer = Trainer(\n",
    "    model=model,\n",
    "    args=training_args,\n",
    "    train_dataset=tokenized_dataset[\"train\"].select(range(50)),\n",
    "    eval_dataset=tokenized_dataset[\"test\"].select(range(20)),\n",
    "    compute_metrics=compute_metrics,\n",
    ")\n",
    "\n",
    "# Train\n",
    "print(\"Starting training...\")\n",
    "trainer.train()\n",
    "\n",
    "# Evaluate\n",
    "print(\"Evaluating...\")\n",
    "results = trainer.evaluate()\n",
    "print(f\"Test Accuracy: {results['eval_accuracy']:.4f}\")\n",
    "\n",
    "# Save model\n",
    "model.save_pretrained(\"./bert_sentiment_model\")\n",
    "tokenizer.save_pretrained(\"./bert_sentiment_model\")"
   ],
   "id": "929eb1403bf260d7",
   "outputs": [
    {
     "name": "stderr",
     "output_type": "stream",
     "text": [
      "/home/miellilas/Documents/pba/myanimelist/venv/lib/python3.12/site-packages/tqdm/auto.py:21: TqdmWarning: IProgress not found. Please update jupyter and ipywidgets. See https://ipywidgets.readthedocs.io/en/stable/user_install.html\n",
      "  from .autonotebook import tqdm as notebook_tqdm\n"
     ]
    },
    {
     "name": "stdout",
     "output_type": "stream",
     "text": [
      "Label classes: ['negative' 'neutral' 'positive']\n"
     ]
    },
    {
     "name": "stderr",
     "output_type": "stream",
     "text": [
      "/home/miellilas/Documents/pba/myanimelist/venv/lib/python3.12/site-packages/huggingface_hub/file_download.py:943: FutureWarning: `resume_download` is deprecated and will be removed in version 1.0.0. Downloads always resume when possible. If you want to force a new download, use `force_download=True`.\n",
      "  warnings.warn(\n",
      "Map: 100%|██████████| 3888/3888 [00:34<00:00, 113.72 examples/s]\n",
      "Map: 100%|██████████| 972/972 [00:08<00:00, 120.13 examples/s]\n",
      "Some weights of BertForSequenceClassification were not initialized from the model checkpoint at bert-base-uncased and are newly initialized: ['classifier.bias', 'classifier.weight']\n",
      "You should probably TRAIN this model on a down-stream task to be able to use it for predictions and inference.\n"
     ]
    },
    {
     "name": "stdout",
     "output_type": "stream",
     "text": [
      "Starting training...\n"
     ]
    },
    {
     "data": {
      "text/plain": [
       "<IPython.core.display.HTML object>"
      ],
      "text/html": [
       "\n",
       "    <div>\n",
       "      \n",
       "      <progress value='7' max='7' style='width:300px; height:20px; vertical-align: middle;'></progress>\n",
       "      [7/7 01:12, Epoch 1/1]\n",
       "    </div>\n",
       "    <table border=\"1\" class=\"dataframe\">\n",
       "  <thead>\n",
       " <tr style=\"text-align: left;\">\n",
       "      <th>Epoch</th>\n",
       "      <th>Training Loss</th>\n",
       "      <th>Validation Loss</th>\n",
       "      <th>Accuracy</th>\n",
       "    </tr>\n",
       "  </thead>\n",
       "  <tbody>\n",
       "    <tr>\n",
       "      <td>1</td>\n",
       "      <td>No log</td>\n",
       "      <td>1.037910</td>\n",
       "      <td>0.550000</td>\n",
       "    </tr>\n",
       "  </tbody>\n",
       "</table><p>"
      ]
     },
     "metadata": {},
     "output_type": "display_data"
    },
    {
     "name": "stdout",
     "output_type": "stream",
     "text": [
      "Evaluating...\n"
     ]
    },
    {
     "data": {
      "text/plain": [
       "<IPython.core.display.HTML object>"
      ],
      "text/html": [
       "\n",
       "    <div>\n",
       "      \n",
       "      <progress value='3' max='3' style='width:300px; height:20px; vertical-align: middle;'></progress>\n",
       "      [3/3 00:03]\n",
       "    </div>\n",
       "    "
      ]
     },
     "metadata": {},
     "output_type": "display_data"
    },
    {
     "name": "stdout",
     "output_type": "stream",
     "text": [
      "Test Accuracy: 0.5500\n"
     ]
    },
    {
     "data": {
      "text/plain": [
       "('./bert_sentiment_model/tokenizer_config.json',\n",
       " './bert_sentiment_model/special_tokens_map.json',\n",
       " './bert_sentiment_model/vocab.txt',\n",
       " './bert_sentiment_model/added_tokens.json')"
      ]
     },
     "execution_count": 1,
     "metadata": {},
     "output_type": "execute_result"
    }
   ],
   "execution_count": 1
  }
 ],
 "metadata": {
  "kernelspec": {
   "display_name": "Python 3",
   "language": "python",
   "name": "python3"
  },
  "language_info": {
   "codemirror_mode": {
    "name": "ipython",
    "version": 2
   },
   "file_extension": ".py",
   "mimetype": "text/x-python",
   "name": "python",
   "nbconvert_exporter": "python",
   "pygments_lexer": "ipython2",
   "version": "2.7.6"
  }
 },
 "nbformat": 4,
 "nbformat_minor": 5
}

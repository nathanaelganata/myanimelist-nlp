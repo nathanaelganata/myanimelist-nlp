{
 "cells": [
  {
   "cell_type": "code",
   "id": "initial_id",
   "metadata": {
    "collapsed": true,
    "ExecuteTime": {
     "end_time": "2025-06-11T11:57:06.974310Z",
     "start_time": "2025-06-11T11:57:06.971140Z"
    }
   },
   "source": [
    "import pandas as pd\n",
    "import torch\n",
    "import torch.nn as nn\n",
    "import torch.optim as optim\n",
    "from torch.utils.data import Dataset, DataLoader\n",
    "from sklearn.model_selection import train_test_split\n",
    "from sklearn.preprocessing import LabelEncoder\n",
    "from collections import Counter\n"
   ],
   "outputs": [],
   "execution_count": 13
  },
  {
   "metadata": {
    "ExecuteTime": {
     "end_time": "2025-06-11T11:56:32.773876Z",
     "start_time": "2025-06-11T11:56:32.336701Z"
    }
   },
   "cell_type": "code",
   "source": [
    "# Load your dataset\n",
    "df = pd.read_csv(\"../data/processed/top_150_fantasy_reviews_cleaned_balanced.csv\")\n",
    "\n",
    "# Map 'recommendation' to sentiment labels\n",
    "def map_recommendation(rec):\n",
    "    if rec == 'Recommended':\n",
    "        return 'positive'\n",
    "    elif rec == 'Not Recommended':\n",
    "        return 'negative'\n",
    "    else:\n",
    "        return 'neutral'\n",
    "\n",
    "df[\"label_text\"] = df[\"recommendation\"].map(map_recommendation)\n",
    "\n",
    "# Check mapping\n",
    "print(df[[\"recommendation\", \"label_text\"]].head())\n",
    "print(df[\"label_text\"].value_counts())\n"
   ],
   "id": "724a6aeab7500b8b",
   "outputs": [
    {
     "name": "stdout",
     "output_type": "stream",
     "text": [
      "  recommendation label_text\n",
      "0    Recommended   positive\n",
      "1    Recommended   positive\n",
      "2    Recommended   positive\n",
      "3    Recommended   positive\n",
      "4    Recommended   positive\n",
      "label_text\n",
      "positive    2319\n",
      "neutral     1405\n",
      "negative    1136\n",
      "Name: count, dtype: int64\n"
     ]
    }
   ],
   "execution_count": 10
  },
  {
   "metadata": {
    "ExecuteTime": {
     "end_time": "2025-06-11T11:56:43.373789Z",
     "start_time": "2025-06-11T11:56:43.368161Z"
    }
   },
   "cell_type": "code",
   "source": [
    "label_encoder = LabelEncoder()\n",
    "df[\"label\"] = label_encoder.fit_transform(df[\"label_text\"])\n",
    "print(label_encoder.classes_)  # ['negative' 'neutral' 'positive']\n"
   ],
   "id": "b4e395d95c36d7c0",
   "outputs": [
    {
     "name": "stdout",
     "output_type": "stream",
     "text": [
      "['negative' 'neutral' 'positive']\n"
     ]
    }
   ],
   "execution_count": 11
  },
  {
   "metadata": {
    "ExecuteTime": {
     "end_time": "2025-06-11T11:57:09.285419Z",
     "start_time": "2025-06-11T11:57:08.761525Z"
    }
   },
   "cell_type": "code",
   "source": [
    "def build_vocab(texts, max_vocab_size=10000):\n",
    "    counter = Counter()\n",
    "    for text in texts:\n",
    "        counter.update(text.lower().split())\n",
    "    vocab = {\"<PAD>\": 0, \"<UNK>\": 1}\n",
    "    for i, (word, _) in enumerate(counter.most_common(max_vocab_size - 2), start=2):\n",
    "        vocab[word] = i\n",
    "    return vocab\n",
    "\n",
    "vocab = build_vocab(df[\"review_sentiment\"])\n",
    "MAX_LENGTH = 100\n",
    "\n",
    "def tokenize(text, vocab):\n",
    "    tokens = text.lower().split()\n",
    "    ids = [vocab.get(token, vocab[\"<UNK>\"]) for token in tokens]\n",
    "    return ids[:MAX_LENGTH] + [vocab[\"<PAD>\"]] * max(0, MAX_LENGTH - len(ids))\n"
   ],
   "id": "548bc4639930bcdb",
   "outputs": [],
   "execution_count": 14
  },
  {
   "metadata": {
    "ExecuteTime": {
     "end_time": "2025-06-11T11:57:21.782789Z",
     "start_time": "2025-06-11T11:57:21.772121Z"
    }
   },
   "cell_type": "code",
   "source": [
    "class ReviewDataset(Dataset):\n",
    "    def __init__(self, texts, labels, vocab):\n",
    "        self.texts = texts\n",
    "        self.labels = labels\n",
    "        self.vocab = vocab\n",
    "\n",
    "    def __len__(self):\n",
    "        return len(self.texts)\n",
    "\n",
    "    def __getitem__(self, idx):\n",
    "        tokens = tokenize(self.texts[idx], self.vocab)\n",
    "        return torch.tensor(tokens), torch.tensor(self.labels[idx])\n",
    "\n",
    "# Split data\n",
    "train_texts, test_texts, train_labels, test_labels = train_test_split(\n",
    "    df[\"review_sentiment\"].tolist(), df[\"label\"].tolist(), test_size=0.2, random_state=42\n",
    ")\n",
    "\n",
    "train_dataset = ReviewDataset(train_texts, train_labels, vocab)\n",
    "test_dataset = ReviewDataset(test_texts, test_labels, vocab)\n",
    "\n",
    "train_loader = DataLoader(train_dataset, batch_size=32, shuffle=True)\n",
    "test_loader = DataLoader(test_dataset, batch_size=32)\n"
   ],
   "id": "6ef327bc7f8c7aef",
   "outputs": [],
   "execution_count": 15
  },
  {
   "metadata": {
    "ExecuteTime": {
     "end_time": "2025-06-11T11:57:26.170303Z",
     "start_time": "2025-06-11T11:57:26.166135Z"
    }
   },
   "cell_type": "code",
   "source": [
    "class SimpleTransformer(nn.Module):\n",
    "    def __init__(self, vocab_size, embed_dim, num_heads, hidden_dim, num_classes):\n",
    "        super().__init__()\n",
    "        self.embed = nn.Embedding(vocab_size, embed_dim)\n",
    "        encoder_layer = nn.TransformerEncoderLayer(\n",
    "            d_model=embed_dim, nhead=num_heads, dim_feedforward=hidden_dim, batch_first=True\n",
    "        )\n",
    "        self.transformer = nn.TransformerEncoder(encoder_layer, num_layers=2)\n",
    "        self.fc = nn.Linear(embed_dim, num_classes)\n",
    "\n",
    "    def forward(self, x):\n",
    "        x = self.embed(x)\n",
    "        x = self.transformer(x)\n",
    "        x = x.mean(dim=1)\n",
    "        return self.fc(x)\n"
   ],
   "id": "34cf4db77f71290d",
   "outputs": [],
   "execution_count": 16
  },
  {
   "metadata": {
    "ExecuteTime": {
     "end_time": "2025-06-11T12:07:15.677083Z",
     "start_time": "2025-06-11T12:02:54.998592Z"
    }
   },
   "cell_type": "code",
   "source": [
    "device = torch.device(\"cuda\" if torch.cuda.is_available() else \"cpu\")\n",
    "model = SimpleTransformer(\n",
    "    vocab_size=len(vocab),\n",
    "    embed_dim=128,\n",
    "    num_heads=4,\n",
    "    hidden_dim=256,\n",
    "    num_classes=len(label_encoder.classes_)\n",
    ").to(device)\n",
    "\n",
    "criterion = nn.CrossEntropyLoss()\n",
    "optimizer = optim.Adam(model.parameters(), lr=0.001)\n",
    "\n",
    "losses = []\n",
    "\n",
    "for epoch in range(20):\n",
    "    model.train()\n",
    "    total_loss = 0\n",
    "    for inputs, labels in train_loader:\n",
    "        inputs, labels = inputs.to(device), labels.to(device)\n",
    "        optimizer.zero_grad()\n",
    "        outputs = model(inputs)\n",
    "        loss = criterion(outputs, labels)\n",
    "        loss.backward()\n",
    "        optimizer.step()\n",
    "        total_loss += loss.item()\n",
    "    losses.append(total_loss / len(train_loader))\n",
    "    print(f\"Epoch {epoch+1} | Loss: {total_loss/len(train_loader):.4f}\")\n"
   ],
   "id": "12148debf9bb36c4",
   "outputs": [
    {
     "name": "stdout",
     "output_type": "stream",
     "text": [
      "Epoch 1 | Loss: 1.0469\n",
      "Epoch 2 | Loss: 0.9342\n",
      "Epoch 3 | Loss: 0.7981\n",
      "Epoch 4 | Loss: 0.6650\n",
      "Epoch 5 | Loss: 0.5202\n",
      "Epoch 6 | Loss: 0.3868\n",
      "Epoch 7 | Loss: 0.2715\n",
      "Epoch 8 | Loss: 0.1653\n",
      "Epoch 9 | Loss: 0.1056\n",
      "Epoch 10 | Loss: 0.0633\n",
      "Epoch 11 | Loss: 0.0365\n",
      "Epoch 12 | Loss: 0.0183\n",
      "Epoch 13 | Loss: 0.0141\n",
      "Epoch 14 | Loss: 0.0320\n",
      "Epoch 15 | Loss: 0.0283\n",
      "Epoch 16 | Loss: 0.0273\n",
      "Epoch 17 | Loss: 0.0067\n",
      "Epoch 18 | Loss: 0.0023\n",
      "Epoch 19 | Loss: 0.0054\n",
      "Epoch 20 | Loss: 0.0023\n"
     ]
    }
   ],
   "execution_count": 21
  },
  {
   "metadata": {
    "ExecuteTime": {
     "end_time": "2025-06-11T11:58:37.649724Z",
     "start_time": "2025-06-11T11:58:37.642274Z"
    }
   },
   "cell_type": "code",
   "source": [
    "def predict(text):\n",
    "    model.eval()\n",
    "    tokens = tokenize(text, vocab)\n",
    "    input_tensor = torch.tensor([tokens]).to(device)\n",
    "    with torch.no_grad():\n",
    "        output = model(input_tensor)\n",
    "        pred = torch.argmax(output, dim=1).item()\n",
    "        return label_encoder.inverse_transform([pred])[0]\n",
    "\n",
    "# Try it\n",
    "sample_text = \"The animation was incredible and the story was touching!\"\n",
    "print(f\"Predicted sentiment: {predict(sample_text)}\")\n"
   ],
   "id": "7dc571686ec45e93",
   "outputs": [
    {
     "name": "stdout",
     "output_type": "stream",
     "text": [
      "Predicted sentiment: positive\n"
     ]
    }
   ],
   "execution_count": 18
  },
  {
   "metadata": {
    "ExecuteTime": {
     "end_time": "2025-06-11T12:07:16.227323Z",
     "start_time": "2025-06-11T12:07:15.703629Z"
    }
   },
   "cell_type": "code",
   "source": [
    "model.eval()  # Set model to evaluation mode\n",
    "correct = 0\n",
    "total = 0\n",
    "\n",
    "with torch.no_grad():  # Disable gradient tracking for faster inference\n",
    "    for inputs, labels in test_loader:\n",
    "        inputs, labels = inputs.to(device), labels.to(device)\n",
    "        outputs = model(inputs)\n",
    "        predicted = torch.argmax(outputs, dim=1)  # Get index of highest score\n",
    "        correct += (predicted == labels).sum().item()\n",
    "        total += labels.size(0)\n",
    "\n",
    "accuracy = 100 * correct / total\n",
    "print(f\"Test Accuracy: {accuracy:.2f}%\")\n"
   ],
   "id": "cfd5e01e24858174",
   "outputs": [
    {
     "name": "stdout",
     "output_type": "stream",
     "text": [
      "Test Accuracy: 53.29%\n"
     ]
    }
   ],
   "execution_count": 22
  },
  {
   "metadata": {
    "ExecuteTime": {
     "end_time": "2025-06-11T12:08:05.738362Z",
     "start_time": "2025-06-11T12:08:05.734208Z"
    }
   },
   "cell_type": "code",
   "source": "losses",
   "id": "1ce7a3a3239d0d26",
   "outputs": [
    {
     "data": {
      "text/plain": [
       "[1.0469160021328536,\n",
       " 0.9342181404105953,\n",
       " 0.7980949043250475,\n",
       " 0.6649638700192092,\n",
       " 0.52020884170884,\n",
       " 0.38683483578631134,\n",
       " 0.2715441345191393,\n",
       " 0.1653116470294409,\n",
       " 0.10560603508512016,\n",
       " 0.06327081468246389,\n",
       " 0.03650320723813149,\n",
       " 0.01833884327979682,\n",
       " 0.014118532009172773,\n",
       " 0.03201243029449318,\n",
       " 0.02827548051107919,\n",
       " 0.027301794913269152,\n",
       " 0.006663370837426943,\n",
       " 0.002330345933648355,\n",
       " 0.005355895113783934,\n",
       " 0.002324180618251987]"
      ]
     },
     "execution_count": 24,
     "metadata": {},
     "output_type": "execute_result"
    }
   ],
   "execution_count": 24
  },
  {
   "metadata": {
    "ExecuteTime": {
     "end_time": "2025-06-11T12:09:12.734835Z",
     "start_time": "2025-06-11T12:09:12.603588Z"
    }
   },
   "cell_type": "code",
   "source": [
    "# If losses is a list of 20 loss values\n",
    "plt.plot(range(1, len(losses) + 1), losses)\n",
    "plt.xlabel(\"Epoch\")\n",
    "plt.ylabel(\"Training Loss\")\n",
    "plt.title(\"Training Loss Curve\")\n",
    "plt.grid(True)\n",
    "plt.show()\n"
   ],
   "id": "264e6220ef49f7bc",
   "outputs": [
    {
     "data": {
      "text/plain": [
       "<Figure size 640x480 with 1 Axes>"
      ],
      "image/png": "[encoded data removed]"
     },
     "metadata": {},
     "output_type": "display_data"
    }
   ],
   "execution_count": 25
  },
  {
   "metadata": {},
   "cell_type": "code",
   "outputs": [],
   "execution_count": null,
   "source": "",
   "id": "c20228c1f4a1d7ae"
  }
 ],
 "metadata": {
  "kernelspec": {
   "display_name": "Python 3",
   "language": "python",
   "name": "python3"
  },
  "language_info": {
   "codemirror_mode": {
    "name": "ipython",
    "version": 2
   },
   "file_extension": ".py",
   "mimetype": "text/x-python",
   "name": "python",
   "nbconvert_exporter": "python",
   "pygments_lexer": "ipython2",
   "version": "2.7.6"
  }
 },
 "nbformat": 4,
 "nbformat_minor": 5
}
